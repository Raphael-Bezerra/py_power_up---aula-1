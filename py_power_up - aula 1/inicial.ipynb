{
 "cells": [
  {
   "cell_type": "code",
   "execution_count": null,
   "metadata": {},
   "outputs": [],
   "source": [
    "# Passo 1: Importar a base de dados\n"
   ]
  },
  {
   "cell_type": "code",
   "execution_count": null,
   "metadata": {},
   "outputs": [],
   "source": [
    "# Passo 2 Visualizar a base de dados\n",
    "    # entender quais informções eu tenh disponiveis \n",
    "    # procurar os problemas da base de dados \n",
    "# Passo 3: Corrigir os problemas \n",
    "# Passo 4: Análise dos cancelamento \n",
    "# Passos 5 Causas dos cancelamentos dos clientes"
   ]
  }
 ],
 "metadata": {
  "language_info": {
   "name": "python"
  }
 },
 "nbformat": 4,
 "nbformat_minor": 2
}
